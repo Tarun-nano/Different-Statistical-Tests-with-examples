{
 "cells": [
  {
   "cell_type": "code",
   "execution_count": 2,
   "metadata": {},
   "outputs": [],
   "source": [
    "## hyp test"
   ]
  },
  {
   "cell_type": "code",
   "execution_count": null,
   "metadata": {},
   "outputs": [],
   "source": [
    "# Z- Test ( applied when population S.D is given )"
   ]
  },
  {
   "cell_type": "code",
   "execution_count": 5,
   "metadata": {},
   "outputs": [],
   "source": [
    "#Question is in ppt"
   ]
  },
  {
   "cell_type": "code",
   "execution_count": 7,
   "metadata": {},
   "outputs": [],
   "source": [
    "## step -1 Define the null hypo. \n",
    "H0: mew=100 (Average IQ is equal to 100)\n",
    "## step -2 Define the alternate hyp\n",
    "H1: mew != 100 (Average IQ is not equal to 100)\n",
    "## step -3 Define the test\n",
    "It is Two tail test\n",
    "## step -4 identify the alpha\n",
    "alpha=0.05\n",
    "Since its a two tail test we consider alpha/2\n",
    "## step -5 Perform the test\n"
   ]
  },
  {
   "cell_type": "code",
   "execution_count": 2,
   "metadata": {},
   "outputs": [],
   "source": [
    "import numpy as np\n",
    "import scipy.stats as stats"
   ]
  },
  {
   "cell_type": "code",
   "execution_count": 12,
   "metadata": {},
   "outputs": [
    {
     "data": {
      "text/plain": [
       "1.9599639845400545"
      ]
     },
     "execution_count": 12,
     "metadata": {},
     "output_type": "execute_result"
    }
   ],
   "source": [
    "alpha = 0.05\n",
    "\n",
    "# Finding the critical value\n",
    "cv=stats.norm.isf(alpha/2)\n",
    "cv"
   ]
  },
  {
   "cell_type": "code",
   "execution_count": 13,
   "metadata": {},
   "outputs": [
    {
     "data": {
      "text/plain": [
       "2.886751345948129"
      ]
     },
     "execution_count": 13,
     "metadata": {},
     "output_type": "execute_result"
    }
   ],
   "source": [
    "#step -5\n",
    "popmean=100    # population mean\n",
    "popsd=15       # population standard deviation\n",
    "xbar=105       # sample mean\n",
    "n=75           # sample size\n",
    "\n",
    "#            ztest = (xbar-popmean)/standard error\n",
    "#            standard error = popsd/(root of n)\n",
    "\n",
    "teststats=(xbar-popmean)/(popsd/np.sqrt(n))\n",
    "teststats\n"
   ]
  },
  {
   "cell_type": "code",
   "execution_count": null,
   "metadata": {},
   "outputs": [],
   "source": [
    "# step -6 Conclusion\n",
    "\n",
    "Since, the test statistic is more than the critical value and hence there is sufficient reason to believe that we reject the H0 which means\n",
    "that yes, the average IQ has changed.\n",
    "\n"
   ]
  },
  {
   "cell_type": "code",
   "execution_count": 6,
   "metadata": {},
   "outputs": [],
   "source": [
    "# Note : The no. of rows in a dataset represents the sample size\n",
    "#      : isf is only used in ztest"
   ]
  },
  {
   "cell_type": "markdown",
   "metadata": {},
   "source": [
    "#### The TIV Telephone Company provides long-distance telephone service in an area. According to the company’s records, the average length of all long-distance calls placed through this company in 2009 was 12.44 \n",
    "#### minutes. The company’s management wanted to check if the mean length of the current long-distance calls is different from 12.44 minutes. A sample of 150 such calls placed through this company produced a mean length \n",
    "#### of 13.71 minutes. The standard deviation of all such calls is 2.65 minutes. Using the 2% significance level, can you conclude that the mean length of all current long-distance calls is different from 12.44 minutes?"
   ]
  },
  {
   "cell_type": "code",
   "execution_count": 3,
   "metadata": {},
   "outputs": [
    {
     "data": {
      "text/plain": [
       "2.3263478740408408"
      ]
     },
     "execution_count": 3,
     "metadata": {},
     "output_type": "execute_result"
    }
   ],
   "source": [
    "alpha = 0.02\n",
    "\n",
    "# Finding the critical value\n",
    "cv=stats.norm.isf(alpha/2)\n",
    "cv"
   ]
  },
  {
   "cell_type": "code",
   "execution_count": 5,
   "metadata": {},
   "outputs": [
    {
     "data": {
      "text/plain": [
       "5.869532025159697"
      ]
     },
     "execution_count": 5,
     "metadata": {},
     "output_type": "execute_result"
    }
   ],
   "source": [
    "#step -5\n",
    "popmean=12.44   # population mean\n",
    "popsd=2.65       # population standard deviation\n",
    "xbar=13.71       # sample mean\n",
    "n=150           # sample size\n",
    "\n",
    "#            ztest = (xbar-popmean)/standard error\n",
    "#            standard error = popsd/(root of n)\n",
    "\n",
    "teststats=(xbar-popmean)/(popsd/np.sqrt(n))\n",
    "teststats"
   ]
  },
  {
   "cell_type": "code",
   "execution_count": 11,
   "metadata": {},
   "outputs": [
    {
     "data": {
      "text/plain": [
       "2.575829303548901"
      ]
     },
     "execution_count": 11,
     "metadata": {},
     "output_type": "execute_result"
    }
   ],
   "source": [
    "alpha = 0.01\n",
    "\n",
    "# Finding the critical value\n",
    "cv=stats.norm.isf(alpha/2)\n",
    "cv"
   ]
  },
  {
   "cell_type": "code",
   "execution_count": 12,
   "metadata": {},
   "outputs": [
    {
     "data": {
      "text/plain": [
       "2.121320343559644"
      ]
     },
     "execution_count": 12,
     "metadata": {},
     "output_type": "execute_result"
    }
   ],
   "source": [
    "popmean=12.5   # population mean\n",
    "popsd=.80       # population standard deviation\n",
    "xbar=12.9       # sample mean\n",
    "n=18           # sample size\n",
    "\n",
    "#            ztest = (xbar-popmean)/standard error\n",
    "#            standard error = popsd/(root of n)\n",
    "\n",
    "teststats=(xbar-popmean)/(popsd/np.sqrt(n))\n",
    "teststats"
   ]
  },
  {
   "cell_type": "code",
   "execution_count": null,
   "metadata": {},
   "outputs": [],
   "source": []
  }
 ],
 "metadata": {
  "kernelspec": {
   "display_name": "Python 3",
   "language": "python",
   "name": "python3"
  },
  "language_info": {
   "codemirror_mode": {
    "name": "ipython",
    "version": 3
   },
   "file_extension": ".py",
   "mimetype": "text/x-python",
   "name": "python",
   "nbconvert_exporter": "python",
   "pygments_lexer": "ipython3",
   "version": "3.7.3"
  }
 },
 "nbformat": 4,
 "nbformat_minor": 4
}

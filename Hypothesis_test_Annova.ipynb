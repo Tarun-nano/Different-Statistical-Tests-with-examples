{
 "cells": [
  {
   "cell_type": "markdown",
   "metadata": {},
   "source": [
    "# Errors\n",
    "\n",
    "1. Beta Error OR Type II error      ( when wrong null hyp. is proved right)\n",
    "2. Alpha Error OR Type I error      ( when correct null hyp. is provred wrong)\n"
   ]
  },
  {
   "cell_type": "markdown",
   "metadata": {},
   "source": [
    "# Annova\n",
    "\n",
    "1. Annova stands for analysis of variance\n",
    "2. It is an extension of T test\n",
    "3. It is performed using F Distribution\n",
    "4. F Dist depends on the degrees of freedom (helps findinng dfd and dfn)\n",
    "5. F Dist assumes non negative values  and shape of F dist assumes skewness to the right mmeaning it is +ively skewed.\n",
    "6. Shape of F Dist assumes skewness to the right meaning it is +ively skewed\n",
    "\n",
    "stats.f.ppf(q=1-0.05, dfn=2, dfd=12)"
   ]
  },
  {
   "cell_type": "code",
   "execution_count": 32,
   "metadata": {},
   "outputs": [
    {
     "data": {
      "text/plain": [
       "3.8852938346523933"
      ]
     },
     "execution_count": 32,
     "metadata": {},
     "output_type": "execute_result"
    }
   ],
   "source": [
    "import scipy.stats as stats\n",
    "stats.f.ppf(q=1-0.05, dfn=2, dfd=12)\n",
    "\n",
    "# q repersents the confidence interval meaning 1-alpha\n",
    "# dfn = degrees of freedom in numerator\n",
    "# dfd = defrees of freedom in denominator"
   ]
  },
  {
   "cell_type": "markdown",
   "metadata": {},
   "source": [
    "# Question \n",
    "\n"
   ]
  },
  {
   "cell_type": "code",
   "execution_count": 33,
   "metadata": {},
   "outputs": [
    {
     "data": {
      "text/plain": [
       "2.0540043122355685"
      ]
     },
     "execution_count": 33,
     "metadata": {},
     "output_type": "execute_result"
    }
   ],
   "source": [
    "stats.f.ppf(q=1-0.05, dfn=24, dfd=21)"
   ]
  },
  {
   "cell_type": "markdown",
   "metadata": {},
   "source": [
    "## Post - Hoc Test"
   ]
  },
  {
   "cell_type": "markdown",
   "metadata": {},
   "source": [
    "## Question \n",
    "\n",
    "Car crash test for pressure on skull\n",
    "\n",
    "We wish to identify whether the mean pressure applied to the driver during a car crash is same in all segments keeping alpha be 0.05"
   ]
  },
  {
   "cell_type": "code",
   "execution_count": 34,
   "metadata": {},
   "outputs": [],
   "source": [
    "mean_pressure_hatchback=[643,655,702]\n",
    "mean_pressure_sedan=[469,427,525]\n",
    "mean_pressure_suv=[484,456,402]\n"
   ]
  },
  {
   "cell_type": "code",
   "execution_count": 35,
   "metadata": {},
   "outputs": [],
   "source": [
    "import pandas as pd\n",
    "y=[\"HB\",\"HB\",\"HB\"]\n",
    "x=pd.DataFrame(mean_pressure_hatchback,index=y)\n",
    "x\n",
    "y1=[\"SD\",\"SD\",\"SD\"]\n",
    "x2=pd.DataFrame(mean_pressure_sedan,index=y1)\n",
    "y2=[\"SV\",\"SV\",\"SV\"]\n",
    "x3=pd.DataFrame(mean_pressure_suv,index=y2)"
   ]
  },
  {
   "cell_type": "code",
   "execution_count": 36,
   "metadata": {},
   "outputs": [
    {
     "data": {
      "text/plain": [
       "['HB', 'HB', 'HB', 'SD', 'SD', 'SD', 'SV', 'SV', 'SV']"
      ]
     },
     "execution_count": 36,
     "metadata": {},
     "output_type": "execute_result"
    }
   ],
   "source": [
    "y3=y+y1+y2\n",
    "y3"
   ]
  },
  {
   "cell_type": "code",
   "execution_count": 37,
   "metadata": {},
   "outputs": [
    {
     "data": {
      "text/plain": [
       "[643, 655, 702, 469, 427, 525, 484, 456, 402]"
      ]
     },
     "execution_count": 37,
     "metadata": {},
     "output_type": "execute_result"
    }
   ],
   "source": [
    "mean_pressure=mean_pressure_hatchback+mean_pressure_sedan+mean_pressure_suv\n",
    "mean_pressure"
   ]
  },
  {
   "cell_type": "code",
   "execution_count": 38,
   "metadata": {},
   "outputs": [
    {
     "data": {
      "text/html": [
       "<div>\n",
       "<style scoped>\n",
       "    .dataframe tbody tr th:only-of-type {\n",
       "        vertical-align: middle;\n",
       "    }\n",
       "\n",
       "    .dataframe tbody tr th {\n",
       "        vertical-align: top;\n",
       "    }\n",
       "\n",
       "    .dataframe thead th {\n",
       "        text-align: right;\n",
       "    }\n",
       "</style>\n",
       "<table border=\"1\" class=\"dataframe\">\n",
       "  <thead>\n",
       "    <tr style=\"text-align: right;\">\n",
       "      <th></th>\n",
       "      <th>0</th>\n",
       "    </tr>\n",
       "  </thead>\n",
       "  <tbody>\n",
       "    <tr>\n",
       "      <th>HB</th>\n",
       "      <td>643</td>\n",
       "    </tr>\n",
       "    <tr>\n",
       "      <th>HB</th>\n",
       "      <td>655</td>\n",
       "    </tr>\n",
       "    <tr>\n",
       "      <th>HB</th>\n",
       "      <td>702</td>\n",
       "    </tr>\n",
       "    <tr>\n",
       "      <th>SD</th>\n",
       "      <td>469</td>\n",
       "    </tr>\n",
       "    <tr>\n",
       "      <th>SD</th>\n",
       "      <td>427</td>\n",
       "    </tr>\n",
       "    <tr>\n",
       "      <th>SD</th>\n",
       "      <td>525</td>\n",
       "    </tr>\n",
       "    <tr>\n",
       "      <th>SV</th>\n",
       "      <td>484</td>\n",
       "    </tr>\n",
       "    <tr>\n",
       "      <th>SV</th>\n",
       "      <td>456</td>\n",
       "    </tr>\n",
       "    <tr>\n",
       "      <th>SV</th>\n",
       "      <td>402</td>\n",
       "    </tr>\n",
       "  </tbody>\n",
       "</table>\n",
       "</div>"
      ],
      "text/plain": [
       "      0\n",
       "HB  643\n",
       "HB  655\n",
       "HB  702\n",
       "SD  469\n",
       "SD  427\n",
       "SD  525\n",
       "SV  484\n",
       "SV  456\n",
       "SV  402"
      ]
     },
     "execution_count": 38,
     "metadata": {},
     "output_type": "execute_result"
    }
   ],
   "source": [
    "xx=pd.DataFrame(mean_pressure,index=y3)\n",
    "xx"
   ]
  },
  {
   "cell_type": "code",
   "execution_count": 39,
   "metadata": {},
   "outputs": [
    {
     "data": {
      "text/html": [
       "<div>\n",
       "<style scoped>\n",
       "    .dataframe tbody tr th:only-of-type {\n",
       "        vertical-align: middle;\n",
       "    }\n",
       "\n",
       "    .dataframe tbody tr th {\n",
       "        vertical-align: top;\n",
       "    }\n",
       "\n",
       "    .dataframe thead th {\n",
       "        text-align: right;\n",
       "    }\n",
       "</style>\n",
       "<table border=\"1\" class=\"dataframe\">\n",
       "  <thead>\n",
       "    <tr style=\"text-align: right;\">\n",
       "      <th></th>\n",
       "      <th>Cars</th>\n",
       "      <th>Pressure</th>\n",
       "    </tr>\n",
       "  </thead>\n",
       "  <tbody>\n",
       "    <tr>\n",
       "      <th>0</th>\n",
       "      <td>HB</td>\n",
       "      <td>643</td>\n",
       "    </tr>\n",
       "    <tr>\n",
       "      <th>1</th>\n",
       "      <td>HB</td>\n",
       "      <td>655</td>\n",
       "    </tr>\n",
       "    <tr>\n",
       "      <th>2</th>\n",
       "      <td>HB</td>\n",
       "      <td>702</td>\n",
       "    </tr>\n",
       "    <tr>\n",
       "      <th>3</th>\n",
       "      <td>SD</td>\n",
       "      <td>469</td>\n",
       "    </tr>\n",
       "    <tr>\n",
       "      <th>4</th>\n",
       "      <td>SD</td>\n",
       "      <td>427</td>\n",
       "    </tr>\n",
       "    <tr>\n",
       "      <th>5</th>\n",
       "      <td>SD</td>\n",
       "      <td>525</td>\n",
       "    </tr>\n",
       "    <tr>\n",
       "      <th>6</th>\n",
       "      <td>SV</td>\n",
       "      <td>484</td>\n",
       "    </tr>\n",
       "    <tr>\n",
       "      <th>7</th>\n",
       "      <td>SV</td>\n",
       "      <td>456</td>\n",
       "    </tr>\n",
       "    <tr>\n",
       "      <th>8</th>\n",
       "      <td>SV</td>\n",
       "      <td>402</td>\n",
       "    </tr>\n",
       "  </tbody>\n",
       "</table>\n",
       "</div>"
      ],
      "text/plain": [
       "  Cars  Pressure\n",
       "0   HB       643\n",
       "1   HB       655\n",
       "2   HB       702\n",
       "3   SD       469\n",
       "4   SD       427\n",
       "5   SD       525\n",
       "6   SV       484\n",
       "7   SV       456\n",
       "8   SV       402"
      ]
     },
     "execution_count": 39,
     "metadata": {},
     "output_type": "execute_result"
    }
   ],
   "source": [
    "xx=xx.reset_index()\n",
    "xx.rename({\"index\":\"Cars\",0:\"Pressure\"},axis=1,inplace=True)\n",
    "xx"
   ]
  },
  {
   "cell_type": "code",
   "execution_count": 40,
   "metadata": {},
   "outputs": [],
   "source": [
    "# setting up hypothesis :\n",
    "\n",
    "# H0 : mean pressure on skull (Seadn) = mean pressure on skull (Suv) = mean pressure on skull (HB)\n",
    "# H1 : mean pressure on skull (HB) != mean pressure on skull (Suv) != mean pressure on skull (Sedan)"
   ]
  },
  {
   "cell_type": "code",
   "execution_count": 41,
   "metadata": {},
   "outputs": [],
   "source": [
    "# Critical Value\n",
    "\n",
    "# dfn= 3-1\n",
    "# dfd=(3-1)+(3-1)+(3-1)"
   ]
  },
  {
   "cell_type": "code",
   "execution_count": 42,
   "metadata": {},
   "outputs": [
    {
     "data": {
      "text/plain": [
       "5.143252849784718"
      ]
     },
     "execution_count": 42,
     "metadata": {},
     "output_type": "execute_result"
    }
   ],
   "source": [
    "stats.f.ppf(1-0.05, dfn=2, dfd= 6)"
   ]
  },
  {
   "cell_type": "code",
   "execution_count": 43,
   "metadata": {},
   "outputs": [],
   "source": [
    "import statsmodels.api as sms\n",
    "import statsmodels.formula.api as statsmodels\n",
    "from statsmodels.formula.api import ols"
   ]
  },
  {
   "cell_type": "code",
   "execution_count": 44,
   "metadata": {},
   "outputs": [],
   "source": [
    "# Fitting annova model using OLS\n",
    "\n",
    "model = ols(\"Pressure~Cars\",data=xx).fit()"
   ]
  },
  {
   "cell_type": "code",
   "execution_count": 45,
   "metadata": {},
   "outputs": [
    {
     "name": "stdout",
     "output_type": "stream",
     "text": [
      "           df        sum_sq       mean_sq          F    PR(>F)\n",
      "Cars      2.0  86049.555556  43024.777778  25.175411  0.001207\n",
      "Residual  6.0  10254.000000   1709.000000        NaN       NaN\n"
     ]
    }
   ],
   "source": [
    "print(sms.stats.anova_lm(model))"
   ]
  },
  {
   "cell_type": "markdown",
   "metadata": {},
   "source": [
    " Since the F stats in more than the F ctitical value (5.14) and hence it is clear that at leaset one car type has a mean pressure impact\n",
    " on the head/skull. hence null hyp. is rejected.\n",
    "\n",
    " Since p value is found out to be 0.0012 which is way less than 0.05 (alpha) amd since we reject the H0 and accecpt the H1 and vice versa.\n",
    "\n",
    "Now, since we know that atleast one car type has a different mean pressure impact on the skull and hence we are interested in knowing which car\n",
    "type is this and to know this we need to conduct post hoc test and the mostly conducted test is called tukey test.\n"
   ]
  },
  {
   "cell_type": "markdown",
   "metadata": {},
   "source": [
    "# Post Hoc Test"
   ]
  },
  {
   "cell_type": "code",
   "execution_count": 46,
   "metadata": {},
   "outputs": [],
   "source": [
    "from statsmodels.stats.multicomp import pairwise_tukeyhsd"
   ]
  },
  {
   "cell_type": "code",
   "execution_count": 47,
   "metadata": {},
   "outputs": [
    {
     "name": "stdout",
     "output_type": "stream",
     "text": [
      "   Multiple Comparison of Means - Tukey HSD, FWER=0.05   \n",
      "=========================================================\n",
      "group1 group2  meandiff p-adj    lower     upper   reject\n",
      "---------------------------------------------------------\n",
      "    HB     SD    -193.0  0.003 -296.4458  -89.5542   True\n",
      "    HB     SV -219.3333 0.0015 -322.7791 -115.8876   True\n",
      "    SD     SV  -26.3333 0.7172 -129.7791   77.1124  False\n",
      "---------------------------------------------------------\n"
     ]
    }
   ],
   "source": [
    "print(pairwise_tukeyhsd(xx[\"Pressure\"],xx[\"Cars\"]))"
   ]
  },
  {
   "cell_type": "markdown",
   "metadata": {},
   "source": [
    "## Conclusion for Post Hoc Test \n",
    "\n",
    "We can see that the HB has the maximum mean difference with sedan and suv and we also see that the hyp. rejection is True for these\n",
    "car segments and hence we can conclude that the HB appears to be the most Vulnerable Segment to go with...."
   ]
  },
  {
   "cell_type": "code",
   "execution_count": 48,
   "metadata": {},
   "outputs": [],
   "source": [
    "gym_store1=[60,65,66,55,62,70,51,72,58,61,71,41,70,57,55,63,64,76,74,54,58,73]\n",
    "gym_store2=[56,65,63,57,47,72,56,52,75,66,62,68,75,60,73,63,64,65]\n",
    "gym_store3=[67,56,65,61,63,59,42,56,63,65,60,57,62,70,73,63,55,52,58,68,70,72,45]"
   ]
  },
  {
   "cell_type": "code",
   "execution_count": null,
   "metadata": {},
   "outputs": [],
   "source": []
  },
  {
   "cell_type": "code",
   "execution_count": 49,
   "metadata": {},
   "outputs": [],
   "source": [
    "g1=pd.DataFrame({\"gym_store\":\"G1\",\"M_Inc\":gym_store1})\n",
    "g2=pd.DataFrame({\"gym_store\":\"G2\",\"M_Inc\":gym_store2})\n",
    "g3=pd.DataFrame({\"gym_store\":\"G3\",\"M_Inc\":gym_store3})"
   ]
  },
  {
   "cell_type": "code",
   "execution_count": 50,
   "metadata": {},
   "outputs": [],
   "source": [
    "g4=pd.DataFrame()\n",
    "g4=g4.append(g1)\n"
   ]
  },
  {
   "cell_type": "code",
   "execution_count": 51,
   "metadata": {},
   "outputs": [],
   "source": [
    "g4=g4.append(g2)"
   ]
  },
  {
   "cell_type": "code",
   "execution_count": 52,
   "metadata": {},
   "outputs": [],
   "source": [
    "g4=g4.append(g3)"
   ]
  },
  {
   "cell_type": "code",
   "execution_count": 53,
   "metadata": {},
   "outputs": [
    {
     "data": {
      "text/html": [
       "<div>\n",
       "<style scoped>\n",
       "    .dataframe tbody tr th:only-of-type {\n",
       "        vertical-align: middle;\n",
       "    }\n",
       "\n",
       "    .dataframe tbody tr th {\n",
       "        vertical-align: top;\n",
       "    }\n",
       "\n",
       "    .dataframe thead th {\n",
       "        text-align: right;\n",
       "    }\n",
       "</style>\n",
       "<table border=\"1\" class=\"dataframe\">\n",
       "  <thead>\n",
       "    <tr style=\"text-align: right;\">\n",
       "      <th></th>\n",
       "      <th>gym_store</th>\n",
       "      <th>M_Inc</th>\n",
       "    </tr>\n",
       "  </thead>\n",
       "  <tbody>\n",
       "    <tr>\n",
       "      <th>0</th>\n",
       "      <td>G1</td>\n",
       "      <td>60</td>\n",
       "    </tr>\n",
       "    <tr>\n",
       "      <th>1</th>\n",
       "      <td>G1</td>\n",
       "      <td>65</td>\n",
       "    </tr>\n",
       "    <tr>\n",
       "      <th>2</th>\n",
       "      <td>G1</td>\n",
       "      <td>66</td>\n",
       "    </tr>\n",
       "    <tr>\n",
       "      <th>3</th>\n",
       "      <td>G1</td>\n",
       "      <td>55</td>\n",
       "    </tr>\n",
       "    <tr>\n",
       "      <th>4</th>\n",
       "      <td>G1</td>\n",
       "      <td>62</td>\n",
       "    </tr>\n",
       "  </tbody>\n",
       "</table>\n",
       "</div>"
      ],
      "text/plain": [
       "  gym_store  M_Inc\n",
       "0        G1     60\n",
       "1        G1     65\n",
       "2        G1     66\n",
       "3        G1     55\n",
       "4        G1     62"
      ]
     },
     "execution_count": 53,
     "metadata": {},
     "output_type": "execute_result"
    }
   ],
   "source": [
    "g4.head()"
   ]
  },
  {
   "cell_type": "code",
   "execution_count": 54,
   "metadata": {},
   "outputs": [],
   "source": [
    "n = 3\n",
    "dfn = n-1\n",
    "dfd = len(gym_store1)+len(gym_store2)+len(gym_store3)-n\n"
   ]
  },
  {
   "cell_type": "code",
   "execution_count": 55,
   "metadata": {},
   "outputs": [
    {
     "data": {
      "text/plain": [
       "3.1504113105827303"
      ]
     },
     "execution_count": 55,
     "metadata": {},
     "output_type": "execute_result"
    }
   ],
   "source": [
    "stats.f.ppf(1-0.05, dfn=dfn, dfd=dfd)"
   ]
  },
  {
   "cell_type": "code",
   "execution_count": 56,
   "metadata": {},
   "outputs": [],
   "source": [
    "import seaborn as sns"
   ]
  },
  {
   "cell_type": "code",
   "execution_count": 57,
   "metadata": {},
   "outputs": [
    {
     "data": {
      "text/plain": [
       "<matplotlib.axes._subplots.AxesSubplot at 0x1cb716a9e48>"
      ]
     },
     "execution_count": 57,
     "metadata": {},
     "output_type": "execute_result"
    },
    {
     "data": {
      "image/png": "[encoded data removed]",
      "text/plain": [
       "<Figure size 432x288 with 1 Axes>"
      ]
     },
     "metadata": {
      "needs_background": "light"
     },
     "output_type": "display_data"
    }
   ],
   "source": [
    "sns.boxplot(x=\"gym_store\",y=\"M_Inc\",data=g4)"
   ]
  },
  {
   "cell_type": "code",
   "execution_count": 58,
   "metadata": {},
   "outputs": [],
   "source": [
    "model_gym = ols(\"M_Inc~gym_store\",data=g4).fit()"
   ]
  },
  {
   "cell_type": "code",
   "execution_count": 59,
   "metadata": {},
   "outputs": [
    {
     "name": "stdout",
     "output_type": "stream",
     "text": [
      "             df       sum_sq    mean_sq         F    PR(>F)\n",
      "gym_store   2.0    59.057187  29.528593  0.444929  0.642967\n",
      "Residual   60.0  3982.022178  66.367036       NaN       NaN\n"
     ]
    }
   ],
   "source": [
    "print(sms.stats.anova_lm(model_gym))"
   ]
  },
  {
   "cell_type": "code",
   "execution_count": 60,
   "metadata": {},
   "outputs": [
    {
     "name": "stdout",
     "output_type": "stream",
     "text": [
      "Multiple Comparison of Means - Tukey HSD, FWER=0.05\n",
      "===================================================\n",
      "group1 group2 meandiff p-adj   lower  upper  reject\n",
      "---------------------------------------------------\n",
      "    G1     G2   0.7323    0.9 -5.4899 6.9545  False\n",
      "    G1     G3  -1.5889 0.7709 -7.4273 4.2495  False\n",
      "    G2     G3  -2.3213 0.6282 -8.4823 3.8398  False\n",
      "---------------------------------------------------\n"
     ]
    }
   ],
   "source": [
    "# Conclusion \n",
    "\n",
    "#Since the P value states that there is 61% probality that the GYM income of all the stores is same and the same can be seen my F statistics. Hence\n",
    "#we Fail to Reject H0.\n",
    "\n",
    "print(pairwise_tukeyhsd(g4[\"M_Inc\"],g4[\"gym_store\"]))"
   ]
  },
  {
   "cell_type": "markdown",
   "metadata": {},
   "source": [
    "# Annova Test on Sales mart data"
   ]
  },
  {
   "cell_type": "code",
   "execution_count": 61,
   "metadata": {},
   "outputs": [
    {
     "name": "stderr",
     "output_type": "stream",
     "text": [
      "C:\\Users\\Asus\\Anaconda3\\lib\\site-packages\\ipykernel_launcher.py:1: FutureWarning: read_table is deprecated, use read_csv instead.\n",
      "  \"\"\"Entry point for launching an IPython kernel.\n"
     ]
    }
   ],
   "source": [
    "train=pd.read_table(\"C:\\\\Users\\\\Asus\\\\Downloads\\\\Train_UWu5bXk.txt\",sep=\",\")    # sep is known as delimitter in SA"
   ]
  },
  {
   "cell_type": "code",
   "execution_count": 62,
   "metadata": {},
   "outputs": [
    {
     "data": {
      "text/html": [
       "<div>\n",
       "<style scoped>\n",
       "    .dataframe tbody tr th:only-of-type {\n",
       "        vertical-align: middle;\n",
       "    }\n",
       "\n",
       "    .dataframe tbody tr th {\n",
       "        vertical-align: top;\n",
       "    }\n",
       "\n",
       "    .dataframe thead th {\n",
       "        text-align: right;\n",
       "    }\n",
       "</style>\n",
       "<table border=\"1\" class=\"dataframe\">\n",
       "  <thead>\n",
       "    <tr style=\"text-align: right;\">\n",
       "      <th></th>\n",
       "      <th>Item_Identifier</th>\n",
       "      <th>Item_Weight</th>\n",
       "      <th>Item_Fat_Content</th>\n",
       "      <th>Item_Visibility</th>\n",
       "      <th>Item_Type</th>\n",
       "      <th>Item_MRP</th>\n",
       "      <th>Outlet_Identifier</th>\n",
       "      <th>Outlet_Establishment_Year</th>\n",
       "      <th>Outlet_Size</th>\n",
       "      <th>Outlet_Location_Type</th>\n",
       "      <th>Outlet_Type</th>\n",
       "      <th>Item_Outlet_Sales</th>\n",
       "    </tr>\n",
       "  </thead>\n",
       "  <tbody>\n",
       "    <tr>\n",
       "      <th>0</th>\n",
       "      <td>FDA15</td>\n",
       "      <td>9.30</td>\n",
       "      <td>Low Fat</td>\n",
       "      <td>0.016047</td>\n",
       "      <td>Dairy</td>\n",
       "      <td>249.8092</td>\n",
       "      <td>OUT049</td>\n",
       "      <td>1999</td>\n",
       "      <td>Medium</td>\n",
       "      <td>Tier 1</td>\n",
       "      <td>Supermarket Type1</td>\n",
       "      <td>3735.1380</td>\n",
       "    </tr>\n",
       "    <tr>\n",
       "      <th>1</th>\n",
       "      <td>DRC01</td>\n",
       "      <td>5.92</td>\n",
       "      <td>Regular</td>\n",
       "      <td>0.019278</td>\n",
       "      <td>Soft Drinks</td>\n",
       "      <td>48.2692</td>\n",
       "      <td>OUT018</td>\n",
       "      <td>2009</td>\n",
       "      <td>Medium</td>\n",
       "      <td>Tier 3</td>\n",
       "      <td>Supermarket Type2</td>\n",
       "      <td>443.4228</td>\n",
       "    </tr>\n",
       "    <tr>\n",
       "      <th>2</th>\n",
       "      <td>FDN15</td>\n",
       "      <td>17.50</td>\n",
       "      <td>Low Fat</td>\n",
       "      <td>0.016760</td>\n",
       "      <td>Meat</td>\n",
       "      <td>141.6180</td>\n",
       "      <td>OUT049</td>\n",
       "      <td>1999</td>\n",
       "      <td>Medium</td>\n",
       "      <td>Tier 1</td>\n",
       "      <td>Supermarket Type1</td>\n",
       "      <td>2097.2700</td>\n",
       "    </tr>\n",
       "    <tr>\n",
       "      <th>3</th>\n",
       "      <td>FDX07</td>\n",
       "      <td>19.20</td>\n",
       "      <td>Regular</td>\n",
       "      <td>0.000000</td>\n",
       "      <td>Fruits and Vegetables</td>\n",
       "      <td>182.0950</td>\n",
       "      <td>OUT010</td>\n",
       "      <td>1998</td>\n",
       "      <td>NaN</td>\n",
       "      <td>Tier 3</td>\n",
       "      <td>Grocery Store</td>\n",
       "      <td>732.3800</td>\n",
       "    </tr>\n",
       "    <tr>\n",
       "      <th>4</th>\n",
       "      <td>NCD19</td>\n",
       "      <td>8.93</td>\n",
       "      <td>Low Fat</td>\n",
       "      <td>0.000000</td>\n",
       "      <td>Household</td>\n",
       "      <td>53.8614</td>\n",
       "      <td>OUT013</td>\n",
       "      <td>1987</td>\n",
       "      <td>High</td>\n",
       "      <td>Tier 3</td>\n",
       "      <td>Supermarket Type1</td>\n",
       "      <td>994.7052</td>\n",
       "    </tr>\n",
       "  </tbody>\n",
       "</table>\n",
       "</div>"
      ],
      "text/plain": [
       "  Item_Identifier  Item_Weight Item_Fat_Content  Item_Visibility  \\\n",
       "0           FDA15         9.30          Low Fat         0.016047   \n",
       "1           DRC01         5.92          Regular         0.019278   \n",
       "2           FDN15        17.50          Low Fat         0.016760   \n",
       "3           FDX07        19.20          Regular         0.000000   \n",
       "4           NCD19         8.93          Low Fat         0.000000   \n",
       "\n",
       "               Item_Type  Item_MRP Outlet_Identifier  \\\n",
       "0                  Dairy  249.8092            OUT049   \n",
       "1            Soft Drinks   48.2692            OUT018   \n",
       "2                   Meat  141.6180            OUT049   \n",
       "3  Fruits and Vegetables  182.0950            OUT010   \n",
       "4              Household   53.8614            OUT013   \n",
       "\n",
       "   Outlet_Establishment_Year Outlet_Size Outlet_Location_Type  \\\n",
       "0                       1999      Medium               Tier 1   \n",
       "1                       2009      Medium               Tier 3   \n",
       "2                       1999      Medium               Tier 1   \n",
       "3                       1998         NaN               Tier 3   \n",
       "4                       1987        High               Tier 3   \n",
       "\n",
       "         Outlet_Type  Item_Outlet_Sales  \n",
       "0  Supermarket Type1          3735.1380  \n",
       "1  Supermarket Type2           443.4228  \n",
       "2  Supermarket Type1          2097.2700  \n",
       "3      Grocery Store           732.3800  \n",
       "4  Supermarket Type1           994.7052  "
      ]
     },
     "execution_count": 62,
     "metadata": {},
     "output_type": "execute_result"
    }
   ],
   "source": [
    "train.head()"
   ]
  },
  {
   "cell_type": "code",
   "execution_count": 63,
   "metadata": {},
   "outputs": [],
   "source": [
    "data=train[[\"Item_Type\",\"Item_Outlet_Sales\"]]"
   ]
  },
  {
   "cell_type": "code",
   "execution_count": 64,
   "metadata": {},
   "outputs": [
    {
     "data": {
      "text/html": [
       "<div>\n",
       "<style scoped>\n",
       "    .dataframe tbody tr th:only-of-type {\n",
       "        vertical-align: middle;\n",
       "    }\n",
       "\n",
       "    .dataframe tbody tr th {\n",
       "        vertical-align: top;\n",
       "    }\n",
       "\n",
       "    .dataframe thead th {\n",
       "        text-align: right;\n",
       "    }\n",
       "</style>\n",
       "<table border=\"1\" class=\"dataframe\">\n",
       "  <thead>\n",
       "    <tr style=\"text-align: right;\">\n",
       "      <th></th>\n",
       "      <th>Item_Type</th>\n",
       "      <th>Item_Outlet_Sales</th>\n",
       "    </tr>\n",
       "  </thead>\n",
       "  <tbody>\n",
       "    <tr>\n",
       "      <th>0</th>\n",
       "      <td>Dairy</td>\n",
       "      <td>3735.1380</td>\n",
       "    </tr>\n",
       "    <tr>\n",
       "      <th>1</th>\n",
       "      <td>Soft Drinks</td>\n",
       "      <td>443.4228</td>\n",
       "    </tr>\n",
       "    <tr>\n",
       "      <th>2</th>\n",
       "      <td>Meat</td>\n",
       "      <td>2097.2700</td>\n",
       "    </tr>\n",
       "    <tr>\n",
       "      <th>3</th>\n",
       "      <td>Fruits and Vegetables</td>\n",
       "      <td>732.3800</td>\n",
       "    </tr>\n",
       "    <tr>\n",
       "      <th>4</th>\n",
       "      <td>Household</td>\n",
       "      <td>994.7052</td>\n",
       "    </tr>\n",
       "  </tbody>\n",
       "</table>\n",
       "</div>"
      ],
      "text/plain": [
       "               Item_Type  Item_Outlet_Sales\n",
       "0                  Dairy          3735.1380\n",
       "1            Soft Drinks           443.4228\n",
       "2                   Meat          2097.2700\n",
       "3  Fruits and Vegetables           732.3800\n",
       "4              Household           994.7052"
      ]
     },
     "execution_count": 64,
     "metadata": {},
     "output_type": "execute_result"
    }
   ],
   "source": [
    "data.head()"
   ]
  },
  {
   "cell_type": "code",
   "execution_count": 65,
   "metadata": {},
   "outputs": [],
   "source": [
    "n = 3\n",
    "dfn = n-1\n",
    "\n",
    "dfd = data[\"Item_Type\"].shape[0]\n"
   ]
  },
  {
   "cell_type": "code",
   "execution_count": 66,
   "metadata": {},
   "outputs": [
    {
     "data": {
      "text/plain": [
       "2.996785484300511"
      ]
     },
     "execution_count": 66,
     "metadata": {},
     "output_type": "execute_result"
    }
   ],
   "source": [
    "stats.f.ppf(1-0.05, dfn=dfn, dfd=dfd)"
   ]
  },
  {
   "cell_type": "code",
   "execution_count": 67,
   "metadata": {},
   "outputs": [
    {
     "data": {
      "text/plain": [
       "<matplotlib.axes._subplots.AxesSubplot at 0x1cb71d381d0>"
      ]
     },
     "execution_count": 67,
     "metadata": {},
     "output_type": "execute_result"
    },
    {
     "data": {
      "image/png": "[encoded data removed]",
      "text/plain": [
       "<Figure size 432x288 with 1 Axes>"
      ]
     },
     "metadata": {
      "needs_background": "light"
     },
     "output_type": "display_data"
    }
   ],
   "source": [
    "sns.boxplot(x=\"Item_Type\",y=\"Item_Outlet_Sales\",data=data)"
   ]
  },
  {
   "cell_type": "code",
   "execution_count": 68,
   "metadata": {},
   "outputs": [],
   "source": [
    "model1 = ols(\"Item_Outlet_Sales~Item_Type\",data=data).fit()"
   ]
  },
  {
   "cell_type": "code",
   "execution_count": 69,
   "metadata": {},
   "outputs": [
    {
     "name": "stdout",
     "output_type": "stream",
     "text": [
      "               df        sum_sq       mean_sq         F    PR(>F)\n",
      "Item_Type    15.0  1.176182e+08  7.841211e+06  2.700653  0.000388\n",
      "Residual   8507.0  2.469965e+10  2.903450e+06       NaN       NaN\n"
     ]
    }
   ],
   "source": [
    "print(sms.stats.anova_lm(model1))"
   ]
  },
  {
   "cell_type": "code",
   "execution_count": 70,
   "metadata": {},
   "outputs": [
    {
     "name": "stdout",
     "output_type": "stream",
     "text": [
      "                  Multiple Comparison of Means - Tukey HSD, FWER=0.05                   \n",
      "========================================================================================\n",
      "        group1                group2         meandiff p-adj    lower      upper   reject\n",
      "----------------------------------------------------------------------------------------\n",
      "         Baking Goods                Breads   251.161 0.8108  -183.0066  685.3286  False\n",
      "         Baking Goods             Breakfast  158.8374    0.9  -443.3791   761.054  False\n",
      "         Baking Goods                Canned  272.2237 0.2272   -52.0876   596.535  False\n",
      "         Baking Goods                 Dairy  279.5714 0.1733   -40.7958  599.9386  False\n",
      "         Baking Goods          Frozen Foods  179.8965 0.7817   -124.193  483.9861  False\n",
      "         Baking Goods Fruits and Vegetables  336.0384  0.005    52.6461  619.4307   True\n",
      "         Baking Goods           Hard Drinks  186.2504    0.9   -274.177  646.6778  False\n",
      "         Baking Goods    Health and Hygiene   57.0291    0.9  -286.7934  400.8515  False\n",
      "         Baking Goods             Household  305.8131 0.0407     5.6361  605.9901   True\n",
      "         Baking Goods                  Meat  206.0067 0.8404   -158.512  570.5254  False\n",
      "         Baking Goods                Others  -26.8315    0.9  -531.2397  477.5767  False\n",
      "         Baking Goods               Seafood  373.0947    0.9  -392.0868 1138.2762  False\n",
      "         Baking Goods           Snack Foods  324.3505 0.0093    39.6588  609.0422   True\n",
      "         Baking Goods           Soft Drinks   53.5405    0.9  -305.9972  413.0783  False\n",
      "         Baking Goods         Starchy Foods  421.3616 0.3215  -110.6733  953.3965  False\n",
      "               Breads             Breakfast  -92.3236    0.9  -760.0866  575.4394  False\n",
      "               Breads                Canned   21.0627    0.9  -413.0115  455.1369  False\n",
      "               Breads                 Dairy   28.4104    0.9  -402.7251  459.5458  False\n",
      "               Breads          Frozen Foods  -71.2645    0.9  -490.4459  347.9169  False\n",
      "               Breads Fruits and Vegetables   84.8774    0.9  -319.5405  489.2952  False\n",
      "               Breads           Hard Drinks  -64.9106    0.9  -608.2669  478.4456  False\n",
      "               Breads    Health and Hygiene  -194.132    0.9   -642.971   254.707  False\n",
      "               Breads             Household   54.6521    0.9  -361.6998  471.0039  False\n",
      "               Breads                  Meat  -45.1543    0.9  -510.0376   419.729  False\n",
      "               Breads                Others -277.9925    0.9  -859.0865  303.1015  False\n",
      "               Breads               Seafood  121.9337    0.9  -695.8348  939.7022  False\n",
      "               Breads           Snack Foods   73.1895    0.9  -332.1399   478.519  False\n",
      "               Breads           Soft Drinks -197.6205    0.9  -658.6086  263.3676  False\n",
      "               Breads         Starchy Foods  170.2005    0.9  -435.0298  775.4309  False\n",
      "            Breakfast                Canned  113.3863    0.9   -488.763  715.5355  False\n",
      "            Breakfast                 Dairy  120.7339    0.9  -479.3002  720.7681  False\n",
      "            Breakfast          Frozen Foods   21.0591    0.9  -570.4444  612.5625  False\n",
      "            Breakfast Fruits and Vegetables  177.2009    0.9  -403.9333  758.3352  False\n",
      "            Breakfast           Hard Drinks    27.413    0.9  -657.7142  712.5402  False\n",
      "            Breakfast    Health and Hygiene -101.8084    0.9  -714.6866  511.0699  False\n",
      "            Breakfast             Household  146.9756    0.9  -442.5259  736.4772  False\n",
      "            Breakfast                  Meat   47.1693    0.9  -577.5545   671.893  False\n",
      "            Breakfast                Others -185.6689    0.9  -901.0943  529.7564  False\n",
      "            Breakfast               Seafood  214.2573    0.9  -703.8432 1132.3578  False\n",
      "            Breakfast           Snack Foods  165.5131    0.9   -416.256  747.2822  False\n",
      "            Breakfast           Soft Drinks -105.2969    0.9  -727.1275  516.5337  False\n",
      "            Breakfast         Starchy Foods  262.5241    0.9  -472.6405  997.6887  False\n",
      "               Canned                 Dairy    7.3477    0.9  -312.8929  327.5883  False\n",
      "               Canned          Frozen Foods  -92.3272    0.9  -396.2833   211.629  False\n",
      "               Canned Fruits and Vegetables   63.8147    0.9  -219.4345  347.0639  False\n",
      "               Canned           Hard Drinks  -85.9733    0.9  -546.3126  374.3661  False\n",
      "               Canned    Health and Hygiene -215.1946 0.7052  -558.8991  128.5098  False\n",
      "               Canned             Household   33.5894    0.9  -266.4525  333.6313  False\n",
      "               Canned                  Meat   -66.217    0.9  -430.6245  298.1905  False\n",
      "               Canned                Others -299.0552 0.7787   -803.383  205.2726  False\n",
      "               Canned               Seafood   100.871    0.9  -664.2575  865.9995  False\n",
      "               Canned           Snack Foods   52.1268    0.9  -232.4224  336.6761  False\n",
      "               Canned           Soft Drinks -218.6832 0.7444  -578.1081  140.7418  False\n",
      "               Canned         Starchy Foods  149.1379    0.9  -382.8208  681.0965  False\n",
      "                Dairy          Frozen Foods  -99.6749    0.9  -399.4192  200.0695  False\n",
      "                Dairy Fruits and Vegetables    56.467    0.9  -222.2576  335.1916  False\n",
      "                Dairy           Hard Drinks   -93.321    0.9  -550.8903  364.2483  False\n",
      "                Dairy    Health and Hygiene -222.5423  0.642  -562.5278  117.4431  False\n",
      "                Dairy             Household   26.2417    0.9  -269.5327  322.0161  False\n",
      "                Dairy                  Meat  -73.5647    0.9  -434.4665  287.3372  False\n",
      "                Dairy                Others -306.4029 0.7396  -808.2035  195.3977  False\n",
      "                Dairy               Seafood   93.5233    0.9  -669.9418  856.9884  False\n",
      "                Dairy           Snack Foods   44.7791    0.9  -235.2666  324.8249  False\n",
      "                Dairy           Soft Drinks -226.0309 0.6851  -581.9011  129.8394  False\n",
      "                Dairy         Starchy Foods  141.7902    0.9  -387.7732  671.3536  False\n",
      "         Frozen Foods Fruits and Vegetables  156.1418 0.7611  -103.7095  415.9932  False\n",
      "         Frozen Foods           Hard Drinks    6.3539    0.9  -439.9699  452.6777  False\n",
      "         Frozen Foods    Health and Hygiene -122.8675    0.9  -447.5602  201.8253  False\n",
      "         Frozen Foods             Household  125.9166    0.9  -152.1442  403.9773  False\n",
      "         Frozen Foods                  Meat   26.1102    0.9  -320.4233  372.6436  False\n",
      "         Frozen Foods                Others  -206.728    0.9  -698.2961    284.84  False\n",
      "         Frozen Foods               Seafood  193.1982    0.9  -563.5807   949.977  False\n",
      "         Frozen Foods           Snack Foods   144.454 0.8676  -116.8139  405.7219  False\n",
      "         Frozen Foods           Soft Drinks  -126.356    0.9  -467.6461  214.9341  False\n",
      "         Frozen Foods         Starchy Foods   241.465    0.9  -278.4125  761.3426  False\n",
      "Fruits and Vegetables           Hard Drinks  -149.788    0.9  -582.2758  282.6998  False\n",
      "Fruits and Vegetables    Health and Hygiene -279.0093 0.1206  -584.4044   26.3857  False\n",
      "Fruits and Vegetables             Household  -30.2253    0.9   -285.487  225.0364  False\n",
      "Fruits and Vegetables                  Meat -130.0317    0.9  -458.5529  198.4895  False\n",
      "Fruits and Vegetables                Others -362.8699 0.4056  -841.9105  116.1707  False\n",
      "Fruits and Vegetables               Seafood   37.0563    0.9  -711.6458  785.7585  False\n",
      "Fruits and Vegetables           Snack Foods  -11.6879    0.9  -248.5457    225.17  False\n",
      "Fruits and Vegetables           Soft Drinks -282.4979 0.1703  -605.4834   40.4877  False\n",
      "Fruits and Vegetables         Starchy Foods   85.3232    0.9  -422.7254  593.3718  False\n",
      "          Hard Drinks    Health and Hygiene -129.2214    0.9  -603.5086  345.0659  False\n",
      "          Hard Drinks             Household  119.5627    0.9  -324.1047  563.2301  False\n",
      "          Hard Drinks                  Meat   19.7563    0.9  -469.7418  509.2544  False\n",
      "          Hard Drinks                Others -213.0819    0.9  -814.0496  387.8857  False\n",
      "          Hard Drinks               Seafood  186.8443    0.9  -645.1636 1018.8522  False\n",
      "          Hard Drinks           Snack Foods  138.1001    0.9  -295.2402  571.4405  False\n",
      "          Hard Drinks           Soft Drinks -132.7099    0.9  -618.5102  353.0904  False\n",
      "          Hard Drinks         Starchy Foods  235.1112    0.9   -389.225  859.4473  False\n",
      "   Health and Hygiene             Household   248.784 0.3618   -72.2474  569.8155  False\n",
      "   Health and Hygiene                  Meat  148.9776    0.9  -232.8978  530.8531  False\n",
      "   Health and Hygiene                Others  -83.8606    0.9   -600.951  433.2299  False\n",
      "   Health and Hygiene               Seafood  316.0657    0.9  -457.5348 1089.6661  False\n",
      "   Health and Hygiene           Snack Foods  267.3215 0.1744   -39.2797  573.9227  False\n",
      "   Health and Hygiene           Soft Drinks   -3.4885    0.9  -380.6123  373.6353  False\n",
      "   Health and Hygiene         Starchy Foods  364.3325 0.6086  -179.7411  908.4061  False\n",
      "            Household                  Meat  -99.8064    0.9  -442.9117  243.2989  False\n",
      "            Household                Others -332.6446 0.5855   -821.802  156.5128  False\n",
      "            Household               Seafood   67.2816    0.9  -687.9336  822.4969  False\n",
      "            Household           Snack Foods   18.5374    0.9  -238.1661   275.241  False\n",
      "            Household           Soft Drinks -252.2726 0.4326  -590.0813   85.5362  False\n",
      "            Household         Starchy Foods  115.5485    0.9  -402.0503  633.1472  False\n",
      "                 Meat                Others -232.8382    0.9   -763.915  298.2386  False\n",
      "                 Meat               Seafood   167.088    0.9  -615.9303  950.1063  False\n",
      "                 Meat           Snack Foods  118.3438    0.9  -211.2989  447.9866  False\n",
      "                 Meat           Soft Drinks -152.4662    0.9    -548.55  243.6176  False\n",
      "                 Meat         Starchy Foods  215.3549    0.9  -342.0284  772.7381  False\n",
      "               Others               Seafood  399.9262    0.9  -457.2035  1257.056  False\n",
      "               Others           Snack Foods   351.182 0.4691  -128.6284  830.9925  False\n",
      "               Others           Soft Drinks    80.372    0.9  -447.2984  608.0425  False\n",
      "               Others         Starchy Foods  448.1931 0.5818  -209.2488 1105.6349  False\n",
      "              Seafood           Snack Foods  -48.7442    0.9  -797.9392  700.4508  False\n",
      "              Seafood           Soft Drinks -319.5542    0.9 -1100.2662  461.1578  False\n",
      "              Seafood         Starchy Foods   48.2668    0.9  -825.4064  921.9401  False\n",
      "          Snack Foods           Soft Drinks   -270.81 0.2341  -594.9363   53.3163  False\n",
      "          Snack Foods         Starchy Foods    97.011    0.9  -411.7635  605.7856  False\n",
      "          Soft Drinks         Starchy Foods   367.821 0.6216  -186.3176  921.9597  False\n",
      "----------------------------------------------------------------------------------------\n"
     ]
    }
   ],
   "source": [
    "print(pairwise_tukeyhsd(data[\"Item_Outlet_Sales\"],data[\"Item_Type\"]))"
   ]
  },
  {
   "cell_type": "code",
   "execution_count": 71,
   "metadata": {},
   "outputs": [],
   "source": [
    "Table1 = [[\"Day\",\"Store-A\", \"Store-B\",\"Store-C\",\"Store-D\",\"Store-E\"],\n",
    "         [1,79,81,74,77,66],[2,78,86,89,97,86],[3,81,87,84,94,82],[4,80,83,81,88,83],[5,70,74,77,89,68]]"
   ]
  },
  {
   "cell_type": "code",
   "execution_count": 72,
   "metadata": {},
   "outputs": [],
   "source": [
    "#The Data Comes from an Electronic Store showing the percentage of customers satisfied with the Quality of Service.\n",
    "\n",
    "# Conduct a two way anova and draw inference about the Population Mean of Service corresponding to the days as well as stores."
   ]
  },
  {
   "cell_type": "code",
   "execution_count": 73,
   "metadata": {},
   "outputs": [
    {
     "data": {
      "text/plain": [
       "list"
      ]
     },
     "execution_count": 73,
     "metadata": {},
     "output_type": "execute_result"
    }
   ],
   "source": [
    "type(Table1)"
   ]
  },
  {
   "cell_type": "code",
   "execution_count": 74,
   "metadata": {},
   "outputs": [
    {
     "data": {
      "text/plain": [
       "array([['Day', 'Store-A', 'Store-B', 'Store-C', 'Store-D', 'Store-E'],\n",
       "       ['1', '79', '81', '74', '77', '66'],\n",
       "       ['2', '78', '86', '89', '97', '86'],\n",
       "       ['3', '81', '87', '84', '94', '82'],\n",
       "       ['4', '80', '83', '81', '88', '83'],\n",
       "       ['5', '70', '74', '77', '89', '68']], dtype='<U7')"
      ]
     },
     "execution_count": 74,
     "metadata": {},
     "output_type": "execute_result"
    }
   ],
   "source": [
    "import numpy as np\n",
    "import pandas as pd\n",
    "np.array(Table1)"
   ]
  },
  {
   "cell_type": "code",
   "execution_count": 75,
   "metadata": {},
   "outputs": [],
   "source": [
    "xyz=pd.DataFrame(Table1,index=Table1[0:]).T"
   ]
  },
  {
   "cell_type": "code",
   "execution_count": 76,
   "metadata": {},
   "outputs": [
    {
     "data": {
      "text/html": [
       "<div>\n",
       "<style scoped>\n",
       "    .dataframe tbody tr th:only-of-type {\n",
       "        vertical-align: middle;\n",
       "    }\n",
       "\n",
       "    .dataframe tbody tr th {\n",
       "        vertical-align: top;\n",
       "    }\n",
       "\n",
       "    .dataframe thead tr th {\n",
       "        text-align: left;\n",
       "    }\n",
       "</style>\n",
       "<table border=\"1\" class=\"dataframe\">\n",
       "  <thead>\n",
       "    <tr>\n",
       "      <th></th>\n",
       "      <th>Day</th>\n",
       "      <th>Store-A</th>\n",
       "      <th>Store-B</th>\n",
       "      <th>Store-C</th>\n",
       "      <th>Store-D</th>\n",
       "      <th>Store-E</th>\n",
       "    </tr>\n",
       "    <tr>\n",
       "      <th></th>\n",
       "      <th>1</th>\n",
       "      <th>79</th>\n",
       "      <th>81</th>\n",
       "      <th>74</th>\n",
       "      <th>77</th>\n",
       "      <th>66</th>\n",
       "    </tr>\n",
       "    <tr>\n",
       "      <th></th>\n",
       "      <th>2</th>\n",
       "      <th>78</th>\n",
       "      <th>86</th>\n",
       "      <th>89</th>\n",
       "      <th>97</th>\n",
       "      <th>86</th>\n",
       "    </tr>\n",
       "    <tr>\n",
       "      <th></th>\n",
       "      <th>3</th>\n",
       "      <th>81</th>\n",
       "      <th>87</th>\n",
       "      <th>84</th>\n",
       "      <th>94</th>\n",
       "      <th>82</th>\n",
       "    </tr>\n",
       "    <tr>\n",
       "      <th></th>\n",
       "      <th>4</th>\n",
       "      <th>80</th>\n",
       "      <th>83</th>\n",
       "      <th>81</th>\n",
       "      <th>88</th>\n",
       "      <th>83</th>\n",
       "    </tr>\n",
       "    <tr>\n",
       "      <th></th>\n",
       "      <th>5</th>\n",
       "      <th>70</th>\n",
       "      <th>74</th>\n",
       "      <th>77</th>\n",
       "      <th>89</th>\n",
       "      <th>68</th>\n",
       "    </tr>\n",
       "  </thead>\n",
       "  <tbody>\n",
       "    <tr>\n",
       "      <th>0</th>\n",
       "      <td>Day</td>\n",
       "      <td>1</td>\n",
       "      <td>2</td>\n",
       "      <td>3</td>\n",
       "      <td>4</td>\n",
       "      <td>5</td>\n",
       "    </tr>\n",
       "    <tr>\n",
       "      <th>1</th>\n",
       "      <td>Store-A</td>\n",
       "      <td>79</td>\n",
       "      <td>78</td>\n",
       "      <td>81</td>\n",
       "      <td>80</td>\n",
       "      <td>70</td>\n",
       "    </tr>\n",
       "    <tr>\n",
       "      <th>2</th>\n",
       "      <td>Store-B</td>\n",
       "      <td>81</td>\n",
       "      <td>86</td>\n",
       "      <td>87</td>\n",
       "      <td>83</td>\n",
       "      <td>74</td>\n",
       "    </tr>\n",
       "    <tr>\n",
       "      <th>3</th>\n",
       "      <td>Store-C</td>\n",
       "      <td>74</td>\n",
       "      <td>89</td>\n",
       "      <td>84</td>\n",
       "      <td>81</td>\n",
       "      <td>77</td>\n",
       "    </tr>\n",
       "    <tr>\n",
       "      <th>4</th>\n",
       "      <td>Store-D</td>\n",
       "      <td>77</td>\n",
       "      <td>97</td>\n",
       "      <td>94</td>\n",
       "      <td>88</td>\n",
       "      <td>89</td>\n",
       "    </tr>\n",
       "    <tr>\n",
       "      <th>5</th>\n",
       "      <td>Store-E</td>\n",
       "      <td>66</td>\n",
       "      <td>86</td>\n",
       "      <td>82</td>\n",
       "      <td>83</td>\n",
       "      <td>68</td>\n",
       "    </tr>\n",
       "  </tbody>\n",
       "</table>\n",
       "</div>"
      ],
      "text/plain": [
       "       Day Store-A Store-B Store-C Store-D Store-E\n",
       "        1       79      81      74      77      66\n",
       "        2       78      86      89      97      86\n",
       "        3       81      87      84      94      82\n",
       "        4       80      83      81      88      83\n",
       "        5       70      74      77      89      68\n",
       "0      Day       1       2       3       4       5\n",
       "1  Store-A      79      78      81      80      70\n",
       "2  Store-B      81      86      87      83      74\n",
       "3  Store-C      74      89      84      81      77\n",
       "4  Store-D      77      97      94      88      89\n",
       "5  Store-E      66      86      82      83      68"
      ]
     },
     "execution_count": 76,
     "metadata": {},
     "output_type": "execute_result"
    }
   ],
   "source": [
    "xyz"
   ]
  },
  {
   "cell_type": "code",
   "execution_count": 77,
   "metadata": {},
   "outputs": [],
   "source": [
    "xyz.drop([0,1,2,3,4,5],inplace = True)"
   ]
  },
  {
   "cell_type": "code",
   "execution_count": 78,
   "metadata": {},
   "outputs": [
    {
     "data": {
      "text/html": [
       "<div>\n",
       "<style scoped>\n",
       "    .dataframe tbody tr th:only-of-type {\n",
       "        vertical-align: middle;\n",
       "    }\n",
       "\n",
       "    .dataframe tbody tr th {\n",
       "        vertical-align: top;\n",
       "    }\n",
       "\n",
       "    .dataframe thead tr th {\n",
       "        text-align: left;\n",
       "    }\n",
       "</style>\n",
       "<table border=\"1\" class=\"dataframe\">\n",
       "  <thead>\n",
       "    <tr>\n",
       "      <th></th>\n",
       "      <th>Day</th>\n",
       "      <th>Store-A</th>\n",
       "      <th>Store-B</th>\n",
       "      <th>Store-C</th>\n",
       "      <th>Store-D</th>\n",
       "      <th>Store-E</th>\n",
       "    </tr>\n",
       "    <tr>\n",
       "      <th></th>\n",
       "      <th>1</th>\n",
       "      <th>79</th>\n",
       "      <th>81</th>\n",
       "      <th>74</th>\n",
       "      <th>77</th>\n",
       "      <th>66</th>\n",
       "    </tr>\n",
       "    <tr>\n",
       "      <th></th>\n",
       "      <th>2</th>\n",
       "      <th>78</th>\n",
       "      <th>86</th>\n",
       "      <th>89</th>\n",
       "      <th>97</th>\n",
       "      <th>86</th>\n",
       "    </tr>\n",
       "    <tr>\n",
       "      <th></th>\n",
       "      <th>3</th>\n",
       "      <th>81</th>\n",
       "      <th>87</th>\n",
       "      <th>84</th>\n",
       "      <th>94</th>\n",
       "      <th>82</th>\n",
       "    </tr>\n",
       "    <tr>\n",
       "      <th></th>\n",
       "      <th>4</th>\n",
       "      <th>80</th>\n",
       "      <th>83</th>\n",
       "      <th>81</th>\n",
       "      <th>88</th>\n",
       "      <th>83</th>\n",
       "    </tr>\n",
       "    <tr>\n",
       "      <th></th>\n",
       "      <th>5</th>\n",
       "      <th>70</th>\n",
       "      <th>74</th>\n",
       "      <th>77</th>\n",
       "      <th>89</th>\n",
       "      <th>68</th>\n",
       "    </tr>\n",
       "  </thead>\n",
       "  <tbody>\n",
       "  </tbody>\n",
       "</table>\n",
       "</div>"
      ],
      "text/plain": [
       "Empty DataFrame\n",
       "Columns: [(Day, 1, 2, 3, 4, 5), (Store-A, 79, 78, 81, 80, 70), (Store-B, 81, 86, 87, 83, 74), (Store-C, 74, 89, 84, 81, 77), (Store-D, 77, 97, 94, 88, 89), (Store-E, 66, 86, 82, 83, 68)]\n",
       "Index: []"
      ]
     },
     "execution_count": 78,
     "metadata": {},
     "output_type": "execute_result"
    }
   ],
   "source": [
    "xyz"
   ]
  },
  {
   "cell_type": "code",
   "execution_count": 79,
   "metadata": {},
   "outputs": [],
   "source": [
    "dfa = pd.DataFrame({'Days':['Day 1','Day 2','Day 3','Day 4','Day 5'], 'Stores':'Store A',\n",
    "             'Scores':[79,81,74,77,66]})\n",
    "dfb = pd.DataFrame({'Days':['Day 1','Day 2','Day 3','Day 4','Day 5'], 'Stores':'Store B',\n",
    "             'Scores':[78,86,89,97,86]})\n",
    "dfc = pd.DataFrame({'Days':['Day 1','Day 2','Day 3','Day 4','Day 5'], 'Stores':'Store C',\n",
    "             'Scores':[81,87,84,94,82]})\n",
    "dfd = pd.DataFrame({'Days':['Day 1','Day 2','Day 3','Day 4','Day 5'], 'Stores':'Store D',\n",
    "             'Scores':[80,83,81,88,83]})\n",
    "dfe = pd.DataFrame({'Days':['Day 1','Day 2','Day 3','Day 4','Day 5'], 'Stores':'Store E',\n",
    "             'Scores':[70,74,77,89,68]})"
   ]
  },
  {
   "cell_type": "code",
   "execution_count": 80,
   "metadata": {},
   "outputs": [],
   "source": [
    "dfa=dfa.append(dfb)\n",
    "dfa=dfa.append(dfc)\n",
    "dfa=dfa.append(dfd)\n",
    "dfa=dfa.append(dfe)\n",
    "\n"
   ]
  },
  {
   "cell_type": "code",
   "execution_count": 81,
   "metadata": {},
   "outputs": [
    {
     "data": {
      "text/html": [
       "<div>\n",
       "<style scoped>\n",
       "    .dataframe tbody tr th:only-of-type {\n",
       "        vertical-align: middle;\n",
       "    }\n",
       "\n",
       "    .dataframe tbody tr th {\n",
       "        vertical-align: top;\n",
       "    }\n",
       "\n",
       "    .dataframe thead th {\n",
       "        text-align: right;\n",
       "    }\n",
       "</style>\n",
       "<table border=\"1\" class=\"dataframe\">\n",
       "  <thead>\n",
       "    <tr style=\"text-align: right;\">\n",
       "      <th></th>\n",
       "      <th>Days</th>\n",
       "      <th>Stores</th>\n",
       "      <th>Scores</th>\n",
       "    </tr>\n",
       "  </thead>\n",
       "  <tbody>\n",
       "    <tr>\n",
       "      <th>0</th>\n",
       "      <td>Day 1</td>\n",
       "      <td>Store A</td>\n",
       "      <td>79</td>\n",
       "    </tr>\n",
       "    <tr>\n",
       "      <th>1</th>\n",
       "      <td>Day 2</td>\n",
       "      <td>Store A</td>\n",
       "      <td>81</td>\n",
       "    </tr>\n",
       "    <tr>\n",
       "      <th>2</th>\n",
       "      <td>Day 3</td>\n",
       "      <td>Store A</td>\n",
       "      <td>74</td>\n",
       "    </tr>\n",
       "    <tr>\n",
       "      <th>3</th>\n",
       "      <td>Day 4</td>\n",
       "      <td>Store A</td>\n",
       "      <td>77</td>\n",
       "    </tr>\n",
       "    <tr>\n",
       "      <th>4</th>\n",
       "      <td>Day 5</td>\n",
       "      <td>Store A</td>\n",
       "      <td>66</td>\n",
       "    </tr>\n",
       "    <tr>\n",
       "      <th>0</th>\n",
       "      <td>Day 1</td>\n",
       "      <td>Store B</td>\n",
       "      <td>78</td>\n",
       "    </tr>\n",
       "    <tr>\n",
       "      <th>1</th>\n",
       "      <td>Day 2</td>\n",
       "      <td>Store B</td>\n",
       "      <td>86</td>\n",
       "    </tr>\n",
       "    <tr>\n",
       "      <th>2</th>\n",
       "      <td>Day 3</td>\n",
       "      <td>Store B</td>\n",
       "      <td>89</td>\n",
       "    </tr>\n",
       "    <tr>\n",
       "      <th>3</th>\n",
       "      <td>Day 4</td>\n",
       "      <td>Store B</td>\n",
       "      <td>97</td>\n",
       "    </tr>\n",
       "    <tr>\n",
       "      <th>4</th>\n",
       "      <td>Day 5</td>\n",
       "      <td>Store B</td>\n",
       "      <td>86</td>\n",
       "    </tr>\n",
       "    <tr>\n",
       "      <th>0</th>\n",
       "      <td>Day 1</td>\n",
       "      <td>Store C</td>\n",
       "      <td>81</td>\n",
       "    </tr>\n",
       "    <tr>\n",
       "      <th>1</th>\n",
       "      <td>Day 2</td>\n",
       "      <td>Store C</td>\n",
       "      <td>87</td>\n",
       "    </tr>\n",
       "    <tr>\n",
       "      <th>2</th>\n",
       "      <td>Day 3</td>\n",
       "      <td>Store C</td>\n",
       "      <td>84</td>\n",
       "    </tr>\n",
       "    <tr>\n",
       "      <th>3</th>\n",
       "      <td>Day 4</td>\n",
       "      <td>Store C</td>\n",
       "      <td>94</td>\n",
       "    </tr>\n",
       "    <tr>\n",
       "      <th>4</th>\n",
       "      <td>Day 5</td>\n",
       "      <td>Store C</td>\n",
       "      <td>82</td>\n",
       "    </tr>\n",
       "    <tr>\n",
       "      <th>0</th>\n",
       "      <td>Day 1</td>\n",
       "      <td>Store D</td>\n",
       "      <td>80</td>\n",
       "    </tr>\n",
       "    <tr>\n",
       "      <th>1</th>\n",
       "      <td>Day 2</td>\n",
       "      <td>Store D</td>\n",
       "      <td>83</td>\n",
       "    </tr>\n",
       "    <tr>\n",
       "      <th>2</th>\n",
       "      <td>Day 3</td>\n",
       "      <td>Store D</td>\n",
       "      <td>81</td>\n",
       "    </tr>\n",
       "    <tr>\n",
       "      <th>3</th>\n",
       "      <td>Day 4</td>\n",
       "      <td>Store D</td>\n",
       "      <td>88</td>\n",
       "    </tr>\n",
       "    <tr>\n",
       "      <th>4</th>\n",
       "      <td>Day 5</td>\n",
       "      <td>Store D</td>\n",
       "      <td>83</td>\n",
       "    </tr>\n",
       "    <tr>\n",
       "      <th>0</th>\n",
       "      <td>Day 1</td>\n",
       "      <td>Store E</td>\n",
       "      <td>70</td>\n",
       "    </tr>\n",
       "    <tr>\n",
       "      <th>1</th>\n",
       "      <td>Day 2</td>\n",
       "      <td>Store E</td>\n",
       "      <td>74</td>\n",
       "    </tr>\n",
       "    <tr>\n",
       "      <th>2</th>\n",
       "      <td>Day 3</td>\n",
       "      <td>Store E</td>\n",
       "      <td>77</td>\n",
       "    </tr>\n",
       "    <tr>\n",
       "      <th>3</th>\n",
       "      <td>Day 4</td>\n",
       "      <td>Store E</td>\n",
       "      <td>89</td>\n",
       "    </tr>\n",
       "    <tr>\n",
       "      <th>4</th>\n",
       "      <td>Day 5</td>\n",
       "      <td>Store E</td>\n",
       "      <td>68</td>\n",
       "    </tr>\n",
       "  </tbody>\n",
       "</table>\n",
       "</div>"
      ],
      "text/plain": [
       "    Days   Stores  Scores\n",
       "0  Day 1  Store A      79\n",
       "1  Day 2  Store A      81\n",
       "2  Day 3  Store A      74\n",
       "3  Day 4  Store A      77\n",
       "4  Day 5  Store A      66\n",
       "0  Day 1  Store B      78\n",
       "1  Day 2  Store B      86\n",
       "2  Day 3  Store B      89\n",
       "3  Day 4  Store B      97\n",
       "4  Day 5  Store B      86\n",
       "0  Day 1  Store C      81\n",
       "1  Day 2  Store C      87\n",
       "2  Day 3  Store C      84\n",
       "3  Day 4  Store C      94\n",
       "4  Day 5  Store C      82\n",
       "0  Day 1  Store D      80\n",
       "1  Day 2  Store D      83\n",
       "2  Day 3  Store D      81\n",
       "3  Day 4  Store D      88\n",
       "4  Day 5  Store D      83\n",
       "0  Day 1  Store E      70\n",
       "1  Day 2  Store E      74\n",
       "2  Day 3  Store E      77\n",
       "3  Day 4  Store E      89\n",
       "4  Day 5  Store E      68"
      ]
     },
     "execution_count": 81,
     "metadata": {},
     "output_type": "execute_result"
    }
   ],
   "source": [
    "dfa\n"
   ]
  },
  {
   "cell_type": "code",
   "execution_count": 82,
   "metadata": {},
   "outputs": [],
   "source": [
    "from statsmodels.formula.api import ols\n",
    "model1 = ols(\"Scores~Days+Stores\",data=dfa).fit()"
   ]
  },
  {
   "cell_type": "code",
   "execution_count": 83,
   "metadata": {},
   "outputs": [
    {
     "name": "stdout",
     "output_type": "stream",
     "text": [
      "            df  sum_sq  mean_sq         F    PR(>F)\n",
      "Days       4.0  461.76  115.440  6.534956  0.002575\n",
      "Stores     4.0  617.36  154.340  8.737051  0.000614\n",
      "Residual  16.0  282.64   17.665       NaN       NaN\n"
     ]
    }
   ],
   "source": [
    "print(sms.stats.anova_lm(model1))"
   ]
  },
  {
   "cell_type": "code",
   "execution_count": 84,
   "metadata": {},
   "outputs": [],
   "source": [
    "from scipy.stats import binom\n"
   ]
  },
  {
   "cell_type": "code",
   "execution_count": null,
   "metadata": {},
   "outputs": [],
   "source": []
  }
 ],
 "metadata": {
  "kernelspec": {
   "display_name": "Python 3",
   "language": "python",
   "name": "python3"
  },
  "language_info": {
   "codemirror_mode": {
    "name": "ipython",
    "version": 3
   },
   "file_extension": ".py",
   "mimetype": "text/x-python",
   "name": "python",
   "nbconvert_exporter": "python",
   "pygments_lexer": "ipython3",
   "version": "3.7.3"
  }
 },
 "nbformat": 4,
 "nbformat_minor": 4
}

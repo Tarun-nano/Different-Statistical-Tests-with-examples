{
 "cells": [
  {
   "cell_type": "markdown",
   "metadata": {},
   "source": [
    "# T - Test  ( applied when population S.D is not given)\n",
    "\n",
    "assumption : Data has to be normal"
   ]
  },
  {
   "cell_type": "markdown",
   "metadata": {},
   "source": [
    " alpha = Type 1 Error\n",
    "  \n",
    "  if p-value < alpha : Reject the null hyp.\n",
    "  \n",
    "     p-value > alpha : Failed to reject the null hyp.\n",
    "\n",
    " \n",
    " p-value is the probality of null value being rejected\n"
   ]
  },
  {
   "cell_type": "code",
   "execution_count": 1,
   "metadata": {},
   "outputs": [],
   "source": [
    "# if you have only two samples and no population then T- test is applied"
   ]
  },
  {
   "cell_type": "markdown",
   "metadata": {},
   "source": [
    "# Question - 1 \n",
    "\n",
    "The mayor of a large city claims that the average networth of families living in the city is at least 300,000.\n",
    "A random sample of 25 families selected from city produced a mean worth of 288000.\n",
    "\n",
    "Assume that the networth of all families livin folllow the gaussian curve with popsd = 80,000\n",
    "Can u conclude that the mayor's claim is FALSE ?\n",
    "keep alpha = 2.5 %\n",
    "\n",
    "\n",
    "# Question - 2\n",
    "\n",
    "Experience Marketing reported that the typical time spent by an American is mean of 144 minutes (2.4 hours) per day acessing \n",
    "the internet via mobile device.\n",
    "\n",
    "In order to test the claim, a data of 30 people is selected.\n",
    "\n",
    "We need to find if there is enough evidence that the population mean time spent during the day accessing the internet via mobile is different from 144 minutes.\n",
    "\n"
   ]
  },
  {
   "cell_type": "code",
   "execution_count": 2,
   "metadata": {},
   "outputs": [
    {
     "name": "stdout",
     "output_type": "stream",
     "text": [
      "Critical Value is :  2.241402727604945\n"
     ]
    }
   ],
   "source": [
    "# Solution 1 : \n",
    "\n",
    "# Given values : \n",
    "popmean = 300000\n",
    "xbar = 288000\n",
    "popsd = 80000\n",
    "alpha = 0.025\n",
    "\n",
    "# Step - 1 : Define null hyp.\n",
    "\n",
    "#           H0 : mew = 300000 (The average networth of people = 300000)\n",
    "\n",
    "# Step - 2 : Define alternate hyp.\n",
    "#           H1 : mew != 300000\n",
    "\n",
    "# Step - 3 : One or two tail ?  : Its a two tail test\n",
    "\n",
    "# Step - 4 : identify the alpha \n",
    "#         alpha = 0.25\n",
    "            \n",
    "# Lest apply Ztest\n",
    "    \n",
    "# import library : \n",
    "import numpy as np\n",
    "import scipy.stats as stats\n",
    "\n",
    "# Finding CV\n",
    "\n",
    "cv = stats.norm.isf(alpha/2)\n",
    "print(\"Critical Value is : \",cv)"
   ]
  },
  {
   "cell_type": "code",
   "execution_count": 3,
   "metadata": {},
   "outputs": [],
   "source": [
    "zstats = (xbar-popmean)/(popsd/5)"
   ]
  },
  {
   "cell_type": "code",
   "execution_count": 4,
   "metadata": {},
   "outputs": [
    {
     "name": "stdout",
     "output_type": "stream",
     "text": [
      "Z Stats =  -0.75\n"
     ]
    }
   ],
   "source": [
    "print(\"Z Stats = \",zstats)"
   ]
  },
  {
   "cell_type": "markdown",
   "metadata": {},
   "source": [
    " Conclusion : \n",
    "\n",
    " Since we see that the zstats value lies btw (+)(-) CV hence, there is sufficient reason to believe that the mayor's claim is True.\n"
   ]
  },
  {
   "cell_type": "code",
   "execution_count": 4,
   "metadata": {},
   "outputs": [
    {
     "data": {
      "text/plain": [
       "(30, 1)"
      ]
     },
     "execution_count": 4,
     "metadata": {},
     "output_type": "execute_result"
    }
   ],
   "source": [
    "# Soultion - 2 :\n",
    "\n",
    "# here popsd is not given, not avaliable we will apply T-test\n",
    "\n",
    "import pandas as pd\n",
    "import numpy as np\n",
    "internet=pd.read_csv(\"C:\\\\Users\\\\Asus\\Desktop\\\\InternetMobileTime.csv\")\n",
    "\n",
    "internet.shape"
   ]
  },
  {
   "cell_type": "code",
   "execution_count": 5,
   "metadata": {},
   "outputs": [
    {
     "data": {
      "text/html": [
       "<div>\n",
       "<style scoped>\n",
       "    .dataframe tbody tr th:only-of-type {\n",
       "        vertical-align: middle;\n",
       "    }\n",
       "\n",
       "    .dataframe tbody tr th {\n",
       "        vertical-align: top;\n",
       "    }\n",
       "\n",
       "    .dataframe thead th {\n",
       "        text-align: right;\n",
       "    }\n",
       "</style>\n",
       "<table border=\"1\" class=\"dataframe\">\n",
       "  <thead>\n",
       "    <tr style=\"text-align: right;\">\n",
       "      <th></th>\n",
       "      <th>Minutes</th>\n",
       "    </tr>\n",
       "  </thead>\n",
       "  <tbody>\n",
       "    <tr>\n",
       "      <th>0</th>\n",
       "      <td>72</td>\n",
       "    </tr>\n",
       "    <tr>\n",
       "      <th>1</th>\n",
       "      <td>144</td>\n",
       "    </tr>\n",
       "    <tr>\n",
       "      <th>2</th>\n",
       "      <td>48</td>\n",
       "    </tr>\n",
       "    <tr>\n",
       "      <th>3</th>\n",
       "      <td>72</td>\n",
       "    </tr>\n",
       "    <tr>\n",
       "      <th>4</th>\n",
       "      <td>36</td>\n",
       "    </tr>\n",
       "  </tbody>\n",
       "</table>\n",
       "</div>"
      ],
      "text/plain": [
       "   Minutes\n",
       "0       72\n",
       "1      144\n",
       "2       48\n",
       "3       72\n",
       "4       36"
      ]
     },
     "execution_count": 5,
     "metadata": {},
     "output_type": "execute_result"
    }
   ],
   "source": [
    "internet.head()"
   ]
  },
  {
   "cell_type": "code",
   "execution_count": 8,
   "metadata": {},
   "outputs": [
    {
     "name": "stdout",
     "output_type": "stream",
     "text": [
      "Critical Value is :  2.0452296421327034\n"
     ]
    }
   ],
   "source": [
    "# Given :\n",
    "\n",
    "popmean = 144\n",
    "n = 30  # from shape\n",
    "samplesd = np.std(internet[\"Minutes\"])\n",
    "samplemean=internet[\"Minutes\"].mean()\n",
    "\n",
    "# Step - 1 : Define null hyp.\n",
    "\n",
    "#           H0 : mew = 144 minutes (The average time spent = 300000)\n",
    "\n",
    "# Step - 2 : Define alternate hyp.\n",
    "#           H1 : mew != 144\n",
    "\n",
    "# Step - 3 : One or two tail ?  : Its a two tail test\n",
    "\n",
    "# Step - 4 : identify the alpha \n",
    "#         alpha = 0.05\n",
    "            \n",
    "# Lest apply Ttest\n",
    "    \n",
    "# import library : \n",
    "import numpy as np\n",
    "import scipy.stats as stats\n",
    "\n",
    "# Finding CV\n",
    "\n",
    "cv = stats.t.isf(0.05/2,n-1)       # stats.norm.ppf/isf for +/-     # t stands for t table    # n-1 : degree of freedom\n",
    "print(\"Critical Value is : \",cv)"
   ]
  },
  {
   "cell_type": "code",
   "execution_count": 8,
   "metadata": {},
   "outputs": [
    {
     "data": {
      "text/plain": [
       "1.245610486459851"
      ]
     },
     "execution_count": 8,
     "metadata": {},
     "output_type": "execute_result"
    }
   ],
   "source": [
    "# Step - 5 : Find the test stats\n",
    "\n",
    "tstats = (samplemean-popmean)/(samplesd/np.sqrt(n))\n",
    "tstats"
   ]
  },
  {
   "cell_type": "code",
   "execution_count": 9,
   "metadata": {},
   "outputs": [
    {
     "data": {
      "text/plain": [
       "False"
      ]
     },
     "execution_count": 9,
     "metadata": {},
     "output_type": "execute_result"
    }
   ],
   "source": [
    "tstats>cv"
   ]
  },
  {
   "cell_type": "markdown",
   "metadata": {},
   "source": [
    "Conclusion :\n",
    "\n",
    "    Hence we are not able to reject null hyp. \n",
    "\n"
   ]
  },
  {
   "cell_type": "code",
   "execution_count": 10,
   "metadata": {},
   "outputs": [
    {
     "name": "stdout",
     "output_type": "stream",
     "text": [
      "1.2246743653638934\n",
      "0.23055326882983757\n"
     ]
    }
   ],
   "source": [
    "# Through System and now the comparison is based on P value \n",
    "\n",
    "# one sample T test\n",
    "\n",
    "tstats,pvalue=stats.ttest_1samp(internet[\"Minutes\"],144)   # (data, population mean)\n",
    "\n",
    "print(tstats)\n",
    "print(pvalue)"
   ]
  },
  {
   "cell_type": "markdown",
   "metadata": {},
   "source": [
    "# Conclusion :\n",
    "    \n",
    "    Basis the T stats in comparison to critical value, since the tstats is less than the CV and at the same time the \n",
    "    p value is more than the 0.05. \n",
    "    \n",
    "    This shows that there is enough evidence to believe that We Fail To Reject the Null Hyp.\n",
    "    \n",
    "    menaing that on average an american spends 144 minutes on internet via mobile."
   ]
  },
  {
   "cell_type": "markdown",
   "metadata": {},
   "source": [
    "# Question - 3\n",
    "\n",
    "Suppose a Doctor claims that 17 year olds have an average body temperature that is higher than the commonly accecpted avg. temp of 98.6 F.\n",
    "\n",
    "A Random Sample of 25 people with age of 17 is collected. Find out the results and conclude the same."
   ]
  },
  {
   "cell_type": "code",
   "execution_count": 11,
   "metadata": {},
   "outputs": [
    {
     "data": {
      "text/plain": [
       "(25, 1)"
      ]
     },
     "execution_count": 11,
     "metadata": {},
     "output_type": "execute_result"
    }
   ],
   "source": [
    "#  null hyp : H0  temp = 98.6\n",
    "#  alternate hyp : temp > 98.6\n",
    "temp=pd.read_csv(\"C:\\\\Users\\\\Asus\\Desktop\\\\Temperature.csv\")\n",
    "temp.shape"
   ]
  },
  {
   "cell_type": "code",
   "execution_count": 12,
   "metadata": {},
   "outputs": [
    {
     "data": {
      "text/plain": [
       "0.5998258080476343"
      ]
     },
     "execution_count": 12,
     "metadata": {},
     "output_type": "execute_result"
    }
   ],
   "source": [
    "popmean=98.6\n",
    "n=25\n",
    "samplemean=temp[\"Temp\"]\n",
    "np.std(temp.Temp, ddof=1)\n"
   ]
  },
  {
   "cell_type": "code",
   "execution_count": 13,
   "metadata": {},
   "outputs": [
    {
     "name": "stdout",
     "output_type": "stream",
     "text": [
      "-0.006668602694974534\n",
      "0.9947343867528586\n"
     ]
    }
   ],
   "source": [
    "tstats,pvalue=stats.ttest_1samp(temp[\"Temp\"],98.6)   # (data, population mean)\n",
    "\n",
    "print(tstats)\n",
    "print(pvalue)"
   ]
  },
  {
   "cell_type": "code",
   "execution_count": 14,
   "metadata": {},
   "outputs": [
    {
     "name": "stdout",
     "output_type": "stream",
     "text": [
      "Failed to reject\n"
     ]
    }
   ],
   "source": [
    "if pvalue>0.05:\n",
    "    print(\"Failed to reject\")\n",
    "else :\n",
    "    print(\"Null Hyp. is rejected\")"
   ]
  },
  {
   "cell_type": "markdown",
   "metadata": {},
   "source": [
    "# Alcohol consumption Case Study"
   ]
  },
  {
   "cell_type": "markdown",
   "metadata": {},
   "source": [
    "## Question \n",
    "\n",
    "The alcohol consumption before and after love faliure is given in the dataset. Conduct a T test to check whether the Alcohol Consumption is more after the Love Faliure at 5% LOS.\n"
   ]
  },
  {
   "cell_type": "code",
   "execution_count": 15,
   "metadata": {},
   "outputs": [],
   "source": [
    "alcohol=pd.read_csv(\"C:\\\\Users\\\\Asus\\Desktop\\\\Alcohol Consumption.csv\")\n"
   ]
  },
  {
   "cell_type": "code",
   "execution_count": 16,
   "metadata": {},
   "outputs": [
    {
     "data": {
      "text/html": [
       "<div>\n",
       "<style scoped>\n",
       "    .dataframe tbody tr th:only-of-type {\n",
       "        vertical-align: middle;\n",
       "    }\n",
       "\n",
       "    .dataframe tbody tr th {\n",
       "        vertical-align: top;\n",
       "    }\n",
       "\n",
       "    .dataframe thead th {\n",
       "        text-align: right;\n",
       "    }\n",
       "</style>\n",
       "<table border=\"1\" class=\"dataframe\">\n",
       "  <thead>\n",
       "    <tr style=\"text-align: right;\">\n",
       "      <th></th>\n",
       "      <th>Before_BreakUp</th>\n",
       "      <th>After_Breakup</th>\n",
       "    </tr>\n",
       "  </thead>\n",
       "  <tbody>\n",
       "    <tr>\n",
       "      <th>0</th>\n",
       "      <td>470</td>\n",
       "      <td>408</td>\n",
       "    </tr>\n",
       "    <tr>\n",
       "      <th>1</th>\n",
       "      <td>354</td>\n",
       "      <td>439</td>\n",
       "    </tr>\n",
       "    <tr>\n",
       "      <th>2</th>\n",
       "      <td>496</td>\n",
       "      <td>321</td>\n",
       "    </tr>\n",
       "    <tr>\n",
       "      <th>3</th>\n",
       "      <td>351</td>\n",
       "      <td>437</td>\n",
       "    </tr>\n",
       "    <tr>\n",
       "      <th>4</th>\n",
       "      <td>349</td>\n",
       "      <td>335</td>\n",
       "    </tr>\n",
       "  </tbody>\n",
       "</table>\n",
       "</div>"
      ],
      "text/plain": [
       "   Before_BreakUp  After_Breakup\n",
       "0             470            408\n",
       "1             354            439\n",
       "2             496            321\n",
       "3             351            437\n",
       "4             349            335"
      ]
     },
     "execution_count": 16,
     "metadata": {},
     "output_type": "execute_result"
    }
   ],
   "source": [
    "alcohol.head()"
   ]
  },
  {
   "cell_type": "code",
   "execution_count": 17,
   "metadata": {},
   "outputs": [],
   "source": [
    "# H0 : There is no effect in alcohol consumption\n",
    "# H1 : There is chronic effect in alcohol consumption"
   ]
  },
  {
   "cell_type": "code",
   "execution_count": 18,
   "metadata": {},
   "outputs": [],
   "source": [
    "tstats,pvalue=stats.ttest_rel(alcohol[\"Before_BreakUp\"],alcohol[\"After_Breakup\"])"
   ]
  },
  {
   "cell_type": "code",
   "execution_count": 19,
   "metadata": {},
   "outputs": [
    {
     "name": "stdout",
     "output_type": "stream",
     "text": [
      "-0.5375404241815105\n",
      "0.5971346738292477\n"
     ]
    }
   ],
   "source": [
    "print(tstats)\n",
    "print(pvalue)"
   ]
  },
  {
   "cell_type": "markdown",
   "metadata": {},
   "source": [
    "# Soft Drink Case Study\n",
    "\n",
    "## Question \n",
    "\n",
    "At level of significance of 5%, is there evidence that the mean quantity of Soft Drink filled in any bottle is different from 02 Litres"
   ]
  },
  {
   "cell_type": "code",
   "execution_count": 20,
   "metadata": {},
   "outputs": [],
   "source": [
    "soft=pd.read_csv(\"C:\\\\Users\\\\Asus\\Desktop\\\\Soft Drink Quantity.csv\")\n"
   ]
  },
  {
   "cell_type": "code",
   "execution_count": 21,
   "metadata": {},
   "outputs": [
    {
     "data": {
      "text/html": [
       "<div>\n",
       "<style scoped>\n",
       "    .dataframe tbody tr th:only-of-type {\n",
       "        vertical-align: middle;\n",
       "    }\n",
       "\n",
       "    .dataframe tbody tr th {\n",
       "        vertical-align: top;\n",
       "    }\n",
       "\n",
       "    .dataframe thead th {\n",
       "        text-align: right;\n",
       "    }\n",
       "</style>\n",
       "<table border=\"1\" class=\"dataframe\">\n",
       "  <thead>\n",
       "    <tr style=\"text-align: right;\">\n",
       "      <th></th>\n",
       "      <th>Quantity</th>\n",
       "    </tr>\n",
       "  </thead>\n",
       "  <tbody>\n",
       "    <tr>\n",
       "      <th>0</th>\n",
       "      <td>2.109</td>\n",
       "    </tr>\n",
       "    <tr>\n",
       "      <th>1</th>\n",
       "      <td>2.086</td>\n",
       "    </tr>\n",
       "    <tr>\n",
       "      <th>2</th>\n",
       "      <td>2.066</td>\n",
       "    </tr>\n",
       "    <tr>\n",
       "      <th>3</th>\n",
       "      <td>2.075</td>\n",
       "    </tr>\n",
       "    <tr>\n",
       "      <th>4</th>\n",
       "      <td>2.065</td>\n",
       "    </tr>\n",
       "  </tbody>\n",
       "</table>\n",
       "</div>"
      ],
      "text/plain": [
       "   Quantity\n",
       "0     2.109\n",
       "1     2.086\n",
       "2     2.066\n",
       "3     2.075\n",
       "4     2.065"
      ]
     },
     "execution_count": 21,
     "metadata": {},
     "output_type": "execute_result"
    }
   ],
   "source": [
    "soft.head()"
   ]
  },
  {
   "cell_type": "code",
   "execution_count": 22,
   "metadata": {},
   "outputs": [],
   "source": [
    "# H0 : Quantity = 2   # null Hyp.\n",
    "# H1 : Quantity != 2  # alternate Hyp.  \n",
    "    \n",
    "alpha = 0.5\n",
    "popmean = 2"
   ]
  },
  {
   "cell_type": "code",
   "execution_count": 23,
   "metadata": {},
   "outputs": [],
   "source": [
    "samplemean=soft.Quantity.mean()"
   ]
  },
  {
   "cell_type": "code",
   "execution_count": 24,
   "metadata": {},
   "outputs": [],
   "source": [
    "tstats,pvalue=stats.ttest_1samp(soft[\"Quantity\"],2)"
   ]
  },
  {
   "cell_type": "code",
   "execution_count": 25,
   "metadata": {},
   "outputs": [
    {
     "data": {
      "text/plain": [
       "0.11424484790269981"
      ]
     },
     "execution_count": 25,
     "metadata": {},
     "output_type": "execute_result"
    }
   ],
   "source": [
    "tstats"
   ]
  },
  {
   "cell_type": "code",
   "execution_count": 26,
   "metadata": {},
   "outputs": [
    {
     "data": {
      "text/plain": [
       "0.9095105442498921"
      ]
     },
     "execution_count": 26,
     "metadata": {},
     "output_type": "execute_result"
    }
   ],
   "source": [
    "pvalue"
   ]
  },
  {
   "cell_type": "code",
   "execution_count": 27,
   "metadata": {},
   "outputs": [
    {
     "name": "stdout",
     "output_type": "stream",
     "text": [
      "Failed to reject Null Hyp\n"
     ]
    }
   ],
   "source": [
    "if pvalue>0.025:\n",
    "    print(\"Failed to reject Null Hyp\")\n",
    "else :\n",
    "    print(\"Null Hyp. is rejected\")"
   ]
  },
  {
   "cell_type": "code",
   "execution_count": null,
   "metadata": {},
   "outputs": [],
   "source": []
  }
 ],
 "metadata": {
  "kernelspec": {
   "display_name": "Python 3",
   "language": "python",
   "name": "python3"
  },
  "language_info": {
   "codemirror_mode": {
    "name": "ipython",
    "version": 3
   },
   "file_extension": ".py",
   "mimetype": "text/x-python",
   "name": "python",
   "nbconvert_exporter": "python",
   "pygments_lexer": "ipython3",
   "version": "3.7.3"
  }
 },
 "nbformat": 4,
 "nbformat_minor": 4
}
